{
 "cells": [
  {
   "cell_type": "code",
   "execution_count": 48,
   "id": "c9196c0b-4dc5-4b4d-87ad-fd8b0a704341",
   "metadata": {
    "tags": []
   },
   "outputs": [],
   "source": [
    "# writing code in the notebook is different then writung the code in the vs code.\n",
    "\n",
    "!pip install -qU langgraph langchain_groq"
   ]
  },
  {
   "cell_type": "code",
   "execution_count": 49,
   "id": "376e4b62-493c-4946-80a9-022893ff9580",
   "metadata": {
    "tags": []
   },
   "outputs": [],
   "source": [
    "import getpass\n",
    "import os\n",
    "\n",
    "def set_env(var: str):\n",
    "    if not os.environ.get(var):\n",
    "        os.environ[var] = getpass.getpass(f\"{var}:\")\n",
    "        \n",
    "set_env(\"GROQ_API_KEY\")"
   ]
  },
  {
   "cell_type": "code",
   "execution_count": 50,
   "id": "8bdb5c14-5e15-4001-895e-0f0b9d5c48c0",
   "metadata": {
    "tags": []
   },
   "outputs": [
    {
     "name": "stdin",
     "output_type": "stream",
     "text": [
      "enter the key: ········\n"
     ]
    }
   ],
   "source": [
    "os.environ[\"GROQ_API_KEY\"] = getpass.getpass(\"enter the key:\")"
   ]
  },
  {
   "cell_type": "code",
   "execution_count": 5,
   "id": "102c443e-f17e-4d59-aa59-1b7b06081384",
   "metadata": {
    "tags": []
   },
   "outputs": [],
   "source": [
    "from langchain_core.messages import AIMessage\n",
    "from langchain_core.tools import tool\n",
    "\n",
    "from langgraph.prebuilt import ToolNode"
   ]
  },
  {
   "cell_type": "code",
   "execution_count": 94,
   "id": "59c8bfc3-31d4-415f-8dcf-089083931883",
   "metadata": {
    "tags": []
   },
   "outputs": [],
   "source": [
    "@tool\n",
    "\n",
    "def get_weather(location: str):\n",
    "    \"\"\"call to get the current weather\"\"\"\n",
    "    if location.lower() in [ \"sf\", \"san francisco\"]:\n",
    "        return \"it's 60 degrees and foogy.\"\n",
    "    else : \n",
    "        return \"it's 90 degree and sunny.\"\n",
    "    \n",
    "    \n",
    "@tool\n",
    "def get_coolest_cities():\n",
    "    \"\"\"Get a list of the coolest cities\"\"\"\n",
    "    return \"nyc\"\n",
    "    "
   ]
  },
  {
   "cell_type": "code",
   "execution_count": 95,
   "id": "e0c57169-b972-41b6-baf2-ed04c8ef8d5d",
   "metadata": {
    "tags": []
   },
   "outputs": [],
   "source": [
    "tools = [get_weather, get_coolest_cities]\n",
    "tool_node = ToolNode(tools)"
   ]
  },
  {
   "cell_type": "code",
   "execution_count": 23,
   "id": "f38be187-cfda-4981-8ca1-957fcfae4834",
   "metadata": {
    "tags": []
   },
   "outputs": [],
   "source": [
    "#TOOLNODE IS used to make the things run when multiple tools are called for the work.\n",
    "\n",
    "# ToolNode opperate on graph state with a list of messages, it expect that last message to\n",
    "# be the AIMessage with tool_calls parameter "
   ]
  },
  {
   "cell_type": "code",
   "execution_count": 26,
   "id": "e127751a-763e-4084-b046-bb88a609c076",
   "metadata": {
    "tags": []
   },
   "outputs": [
    {
     "data": {
      "text/plain": [
       "{'messages': []}"
      ]
     },
     "execution_count": 26,
     "metadata": {},
     "output_type": "execute_result"
    }
   ],
   "source": [
    "# message_with_single_tool_call = AIMessage(\n",
    "#     content =  \"\",\n",
    "#     tool_call = [\n",
    "#     {\n",
    "#         \"name\" : \"get_weather\", \n",
    "#         \"args\" : {\"location \" , \"sf\"}, \n",
    "#         \"id\" : \"tool_call_id\",\n",
    "#         \"type\" : \"tool_call\", \n",
    "        \n",
    "#     }],\n",
    "# )\n",
    "\n",
    "\n",
    "# tool_node.invoke({\"messages\": [message_with_single_tool_call]})"
   ]
  },
  {
   "cell_type": "code",
   "execution_count": 83,
   "id": "ceb4afff-b042-495f-88ca-f5ab4408fbee",
   "metadata": {
    "tags": []
   },
   "outputs": [],
   "source": [
    "# message_with_single_tool_call = AIMessage(\n",
    "#     content=\"\",\n",
    "#     tool_calls=[\n",
    "#         {\n",
    "#             \"name\": \"get_weather\",\n",
    "#             \"args\": {\"location\": \"sf\"},\n",
    "#             \"id\": \"tool_call_id\",\n",
    "#             \"type\": \"tool_call\",\n",
    "#         }\n",
    "#     ],\n",
    "# )\n",
    "\n",
    "# tool_node.invoke({\"messages\": [message_with_single_tool_call]})"
   ]
  },
  {
   "cell_type": "code",
   "execution_count": 28,
   "id": "a129ada4-6459-4532-8994-7e766f895bab",
   "metadata": {
    "tags": []
   },
   "outputs": [],
   "source": [
    "# here we are generating the answers but we have not to do it the langchain model will be doing that support tool calling"
   ]
  },
  {
   "cell_type": "code",
   "execution_count": 96,
   "id": "cfa25466-1c2f-4739-b9bd-7442c720e6c5",
   "metadata": {
    "tags": []
   },
   "outputs": [
    {
     "data": {
      "text/plain": [
       "{'messages': [ToolMessage(content='nyc', name='get_coolest_cities', tool_call_id='tool_call_id_1'),\n",
       "  ToolMessage(content=\"it's 60 degrees and foogy.\", name='get_weather', tool_call_id='tool_call_id_2')]}"
      ]
     },
     "execution_count": 96,
     "metadata": {},
     "output_type": "execute_result"
    }
   ],
   "source": [
    "message_with_multiple_tool_calls = AIMessage(\n",
    "    content = \"\", \n",
    "    tool_calls = [\n",
    "        \n",
    "        {\n",
    "             \"name\": \"get_coolest_cities\",\n",
    "            \"args\": {}, # we have not provided anything that's why the content will be return is \n",
    "            #nyc and sf\n",
    "            \"id\": \"tool_call_id_1\",\n",
    "            \"type\": \"tool_call\",\n",
    "            \n",
    "        }, \n",
    "        {\n",
    "            \"name\": \"get_weather\",\n",
    "            \"args\": {\"location\": \"sf\"},\n",
    "            \"id\": \"tool_call_id_2\",\n",
    "            \"type\": \"tool_call\",\n",
    "        },\n",
    "        \n",
    "    ],\n",
    "\n",
    ")\n",
    "\n",
    "tool_node.invoke({\"messages\": [message_with_multiple_tool_calls]})"
   ]
  },
  {
   "cell_type": "code",
   "execution_count": 97,
   "id": "4c588c78-986b-48a9-972e-2f69ed471b03",
   "metadata": {
    "tags": []
   },
   "outputs": [],
   "source": [
    "#using the chat model:\n",
    "\n",
    "from typing import Literal\n",
    "\n",
    "from langchain_groq import ChatGroq\n",
    "from langgraph.graph import StateGraph, MessagesState\n",
    "from langgraph.prebuilt import ToolNode\n",
    "\n",
    "model_with_tools = ChatGroq(\n",
    "    model=\"mixtral-8x7b-32768\", temperature=0\n",
    ").bind_tools(tools) # bind_tools will be used to the ensure that the model is aware of the available tools"
   ]
  },
  {
   "cell_type": "code",
   "execution_count": 98,
   "id": "331b2516-5fbe-4adb-b696-15c91472ad00",
   "metadata": {
    "tags": []
   },
   "outputs": [
    {
     "data": {
      "text/plain": [
       "[{'name': 'get_weather',\n",
       "  'args': {'location': 'sf'},\n",
       "  'id': 'call_reyd',\n",
       "  'type': 'tool_call'}]"
      ]
     },
     "execution_count": 98,
     "metadata": {},
     "output_type": "execute_result"
    }
   ],
   "source": [
    "model_with_tools.invoke(\"what is the weather in sf? \" ).tool_calls"
   ]
  },
  {
   "cell_type": "code",
   "execution_count": 99,
   "id": "e49e0d9a-9346-4fd2-8042-fd0ab4cc7902",
   "metadata": {
    "tags": []
   },
   "outputs": [
    {
     "data": {
      "text/plain": [
       "{'messages': [ToolMessage(content=\"it's 60 degrees and foogy.\", name='get_weather', tool_call_id='call_srpf')]}"
      ]
     },
     "execution_count": 99,
     "metadata": {},
     "output_type": "execute_result"
    }
   ],
   "source": [
    "tool_node.invoke({\"messages\": [model_with_tools.invoke(\"what is the weather in sf?\")]})"
   ]
  },
  {
   "cell_type": "code",
   "execution_count": 100,
   "id": "605a5464-6d41-4ca6-a00b-6e95057bbe49",
   "metadata": {
    "tags": []
   },
   "outputs": [],
   "source": [
    "# ReAct Agent: This agent take some query and then repeatedly call the agent untill the\n",
    "# the tools has enough information to solve the query.\n"
   ]
  },
  {
   "cell_type": "code",
   "execution_count": 101,
   "id": "1ae797b5-80f8-4fc6-af38-89d5da1a6b56",
   "metadata": {
    "tags": []
   },
   "outputs": [],
   "source": [
    "from typing import Literal # to save the  base data for your software\n",
    "\n",
    "from langgraph.graph import StateGraph, MessagesState\n",
    "\n",
    "def should_continue(state: MessagesState) -> Literal[\"tools\", \"__end__\"]:\n",
    "    messages = state[\"messages\"]\n",
    "    last_message = messages[-1]\n",
    "    if last_message.tool_calls:\n",
    "        return \"tools\"\n",
    "    return \"__end__\"\n",
    "\n",
    "# here i am calling the function \"should_continue\" and the parameter is the state which is \n",
    "# MessageState which i am saying store the tools and the end value.\n",
    "# messages name  include the value of the state[\"messages\"] and the last message is given to the last one\n",
    "# and if the last message  one calls  it incluede the tools or end the graph\n",
    "\n",
    "\n",
    "def call_model(state: MessagesState):\n",
    "    messages = state[\"messages\"]\n",
    "    response = model_with_tools.invoke(messages)\n",
    "    return {\"messages\": [response]}\n",
    "    \n",
    "# we define that the message will be store in the response\n",
    "\n",
    "# workflow refers to the as we see in the llm the single prompt manage every intent, \n",
    "# so the better is that as it was difficult to create the predictably great user experiences \n",
    "# for known intents with this approach.\n",
    "\n",
    "#workflow can focus on its domain, allowing for isolated improvements without degrading the overall assistant\n",
    "\n",
    "# tools have all the info of the tools.\n",
    "\n",
    "workflow = StateGraph(MessagesState)\n",
    "\n",
    "workflow.add_node(\"agent\", call_model)\n",
    "workflow.add_node(\"tools\", tool_node)\n",
    "\n",
    "workflow.add_edge(\"__start__\", \"agent\")\n",
    "workflow.add_conditional_edges(\n",
    "    \"agent\",\n",
    "    should_continue,\n",
    "\n",
    ")\n",
    "\n",
    "workflow.add_edge(\"tools\", \"agent\")\n",
    "\n",
    "app = workflow.compile()\n",
    "\n",
    "\n"
   ]
  },
  {
   "cell_type": "code",
   "execution_count": 102,
   "id": "fa5934be-87ba-428e-b646-40ca798160b9",
   "metadata": {
    "tags": []
   },
   "outputs": [
    {
     "data": {
      "image/jpeg": "[encoded data removed]",
      "text/plain": [
       "<IPython.core.display.Image object>"
      ]
     },
     "metadata": {},
     "output_type": "display_data"
    }
   ],
   "source": [
    "from IPython.display import Image, display\n",
    "\n",
    "try: \n",
    "    display(Image(app.get_graph().draw_mermaid_png()))\n",
    "except Exception:\n",
    "    # This requires some extra dependencies and is optional\n",
    "    pass"
   ]
  },
  {
   "cell_type": "code",
   "execution_count": 103,
   "id": "e2255c3d-d8ca-45bd-84ff-96daffdf3e73",
   "metadata": {
    "tags": []
   },
   "outputs": [
    {
     "name": "stdout",
     "output_type": "stream",
     "text": [
      "================================\u001b[1m Human Message \u001b[0m=================================\n",
      "\n",
      "what is the weather in the sf?\n",
      "==================================\u001b[1m Ai Message \u001b[0m==================================\n",
      "Tool Calls:\n",
      "  get_weather (call_esdw)\n",
      " Call ID: call_esdw\n",
      "  Args:\n",
      "    location: sf\n",
      "=================================\u001b[1m Tool Message \u001b[0m=================================\n",
      "Name: get_weather\n",
      "\n",
      "it's 60 degrees and foogy.\n",
      "==================================\u001b[1m Ai Message \u001b[0m==================================\n",
      "\n",
      "It's 60 degrees and foggy in San Francisco.\n"
     ]
    }
   ],
   "source": [
    "for chunk in app.stream(\n",
    "    {\n",
    "        \"messages\": [(\"human\", \"what is the weather in the sf?\")]}, stream_mode = \"values\"\n",
    "):\n",
    "    chunk[\"messages\"][-1].pretty_print()"
   ]
  },
  {
   "cell_type": "code",
   "execution_count": 104,
   "id": "0f350e2d-890b-4882-876d-3ebfa7e85922",
   "metadata": {
    "tags": []
   },
   "outputs": [
    {
     "name": "stdout",
     "output_type": "stream",
     "text": [
      "================================\u001b[1m Human Message \u001b[0m=================================\n",
      "\n",
      "weather in the coolest cities?\n",
      "==================================\u001b[1m Ai Message \u001b[0m==================================\n",
      "Tool Calls:\n",
      "  get_coolest_cities (call_bn70)\n",
      " Call ID: call_bn70\n",
      "  Args:\n",
      "=================================\u001b[1m Tool Message \u001b[0m=================================\n",
      "Name: get_coolest_cities\n",
      "\n",
      "nyc\n",
      "==================================\u001b[1m Ai Message \u001b[0m==================================\n",
      "Tool Calls:\n",
      "  get_weather (call_d1rj)\n",
      " Call ID: call_d1rj\n",
      "  Args:\n",
      "    location: nyc\n",
      "=================================\u001b[1m Tool Message \u001b[0m=================================\n",
      "Name: get_weather\n",
      "\n",
      "it's 90 degree and sunny.\n",
      "==================================\u001b[1m Ai Message \u001b[0m==================================\n",
      "\n",
      "It's 90 degrees and sunny in NYC, one of the coolest cities.\n"
     ]
    }
   ],
   "source": [
    "# example with a multiple tool calls in succession\n",
    "\n",
    "for chunk in app.stream(\n",
    "    {\"messages\": [(\"human\", \"weather in the coolest cities?\")]},\n",
    "    stream_mode=\"values\",\n",
    "):\n",
    "    chunk[\"messages\"][-1].pretty_print()"
   ]
  },
  {
   "cell_type": "code",
   "execution_count": null,
   "id": "68bef3aa-430f-45e2-8c09-0bc953c7ba25",
   "metadata": {},
   "outputs": [],
   "source": []
  }
 ],
 "metadata": {
  "environment": {
   "kernel": "python3",
   "name": "tf2-cpu.2-11.m123",
   "type": "gcloud",
   "uri": "us-docker.pkg.dev/deeplearning-platform-release/gcr.io/tf2-cpu.2-11:m123"
  },
  "kernelspec": {
   "display_name": "Python 3 (Local)",
   "language": "python",
   "name": "python3"
  },
  "language_info": {
   "codemirror_mode": {
    "name": "ipython",
    "version": 3
   },
   "file_extension": ".py",
   "mimetype": "text/x-python",
   "name": "python",
   "nbconvert_exporter": "python",
   "pygments_lexer": "ipython3",
   "version": "3.10.14"
  }
 },
 "nbformat": 4,
 "nbformat_minor": 5
}
